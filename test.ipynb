{
 "cells": [
  {
   "cell_type": "code",
   "execution_count": 48,
   "metadata": {},
   "outputs": [],
   "source": [
    "import torch\n",
    "\n",
    "def dkl(mu_1, sigma_1, mu_2, sigma_2):\n",
    "    sigma_1 = torch.pow(sigma_1, 2)\n",
    "    sigma_2 = torch.pow(sigma_2, 2)\n",
    "    term_1 = torch.pow(mu_2 - mu_1, 2) / sigma_2 \n",
    "    term_2 = sigma_1 / sigma_2 \n",
    "    term_3 = torch.log(term_2)\n",
    "    print(term_1)\n",
    "    print(term_2)\n",
    "    print(term_3)\n",
    "    out = (.5 * (term_1 + term_2 - term_3 - 1)).sum()\n",
    "    out = torch.nan_to_num(out)\n",
    "    print(out)"
   ]
  },
  {
   "cell_type": "code",
   "execution_count": 49,
   "metadata": {},
   "outputs": [
    {
     "name": "stdout",
     "output_type": "stream",
     "text": [
      "tensor([0.1111])\n",
      "tensor([0.0044])\n",
      "tensor([-5.4161])\n",
      "tensor(2.2658)\n"
     ]
    }
   ],
   "source": [
    "mu_1 = torch.tensor([0])\n",
    "mu_2 = torch.tensor([10])\n",
    "sigma_1 = torch.tensor([2])\n",
    "sigma_2 = torch.tensor([30])\n",
    "\n",
    "dkl(mu_1, sigma_1, mu_2, sigma_2)"
   ]
  },
  {
   "cell_type": "code",
   "execution_count": 50,
   "metadata": {},
   "outputs": [
    {
     "name": "stdout",
     "output_type": "stream",
     "text": [
      "tensor([0.1111])\n",
      "tensor([0.0044])\n",
      "tensor([-5.4161])\n",
      "tensor(2.2658)\n"
     ]
    }
   ],
   "source": [
    "mu_1 = torch.tensor([1])\n",
    "mu_2 = torch.tensor([11])\n",
    "sigma_1 = torch.tensor([2])\n",
    "sigma_2 = torch.tensor([30])\n",
    "\n",
    "dkl(mu_1, sigma_1, mu_2, sigma_2)"
   ]
  },
  {
   "cell_type": "code",
   "execution_count": 51,
   "metadata": {},
   "outputs": [
    {
     "name": "stdout",
     "output_type": "stream",
     "text": [
      "tensor([0.0400])\n",
      "tensor([1.])\n",
      "tensor([0.])\n",
      "tensor(0.0200)\n"
     ]
    }
   ],
   "source": [
    "mu_1 = torch.tensor([0])\n",
    "mu_2 = torch.tensor([1])\n",
    "sigma_1 = torch.tensor([5])\n",
    "sigma_2 = torch.tensor([5])\n",
    "\n",
    "dkl(mu_1, sigma_1, mu_2, sigma_2)"
   ]
  },
  {
   "cell_type": "code",
   "execution_count": 52,
   "metadata": {},
   "outputs": [
    {
     "name": "stdout",
     "output_type": "stream",
     "text": [
      "tensor([0.1111, 0.1111, 0.0400])\n",
      "tensor([0.0044, 0.0044, 1.0000])\n",
      "tensor([-5.4161, -5.4161,  0.0000])\n",
      "tensor(4.5517)\n"
     ]
    }
   ],
   "source": [
    "mu_1 = torch.tensor([0, 1, 0])\n",
    "mu_2 = torch.tensor([10, 11, 1])\n",
    "sigma_1 = torch.tensor([2, 2, 5])\n",
    "sigma_2 = torch.tensor([30, 30, 5])\n",
    "\n",
    "dkl(mu_1, sigma_1, mu_2, sigma_2)"
   ]
  },
  {
   "cell_type": "code",
   "execution_count": 53,
   "metadata": {},
   "outputs": [
    {
     "name": "stdout",
     "output_type": "stream",
     "text": [
      "{'bias': False} default\n"
     ]
    }
   ],
   "source": [
    "import argparse\n",
    "\n",
    "from utils import default_args\n",
    "\n",
    "def get_title(arg_dict):\n",
    "    parser = argparse.ArgumentParser()\n",
    "    for arg in vars(default_args):\n",
    "        if(arg in arg_dict.keys()): parser.add_argument('--{}'.format(arg), default = arg_dict[arg])\n",
    "        else:                       parser.add_argument('--{}'.format(arg), default = getattr(default_args, arg))\n",
    "    args, _ = parser.parse_known_args()\n",
    "    title = \"\"\n",
    "    first = True\n",
    "    for arg in vars(args):\n",
    "        if(getattr(args, arg) != getattr(default_args, arg)):\n",
    "            if(not first): title += \"_\"\n",
    "            title += \"{}_{}\".format(arg, getattr(args, arg)) ; first = False\n",
    "    if(len(title) == 0): title = \"default\"\n",
    "    print(arg_dict, title)\n",
    "    return(args, title)\n",
    "\n",
    "with_bias  = default_args\n",
    "no_bias, _ = get_title({\"bias\" : False})"
   ]
  },
  {
   "cell_type": "code",
   "execution_count": 54,
   "metadata": {},
   "outputs": [
    {
     "ename": "AttributeError",
     "evalue": "'Namespace' object has no attribute 'bias'",
     "output_type": "error",
     "traceback": [
      "\u001b[0;31m---------------------------------------------------------------------------\u001b[0m",
      "\u001b[0;31mAttributeError\u001b[0m                            Traceback (most recent call last)",
      "\u001b[0;32m/tmp/ipykernel_149498/4223535800.py\u001b[0m in \u001b[0;36m<module>\u001b[0;34m\u001b[0m\n\u001b[1;32m     22\u001b[0m         \u001b[0;32mreturn\u001b[0m\u001b[0;34m(\u001b[0m\u001b[0mx\u001b[0m\u001b[0;34m)\u001b[0m\u001b[0;34m\u001b[0m\u001b[0;34m\u001b[0m\u001b[0m\n\u001b[1;32m     23\u001b[0m \u001b[0;34m\u001b[0m\u001b[0m\n\u001b[0;32m---> 24\u001b[0;31m \u001b[0mbayes_forward\u001b[0m \u001b[0;34m=\u001b[0m \u001b[0mBayes_Forward\u001b[0m\u001b[0;34m(\u001b[0m\u001b[0mwith_bias\u001b[0m\u001b[0;34m)\u001b[0m\u001b[0;34m\u001b[0m\u001b[0;34m\u001b[0m\u001b[0m\n\u001b[0m\u001b[1;32m     25\u001b[0m \u001b[0mweights_mu\u001b[0m\u001b[0;34m,\u001b[0m \u001b[0mweights_sigma\u001b[0m\u001b[0;34m,\u001b[0m \u001b[0mbias_mu\u001b[0m\u001b[0;34m,\u001b[0m \u001b[0mbias_sigma\u001b[0m \u001b[0;34m=\u001b[0m \u001b[0mweights\u001b[0m\u001b[0;34m(\u001b[0m\u001b[0mbayes_forward\u001b[0m\u001b[0;34m)\u001b[0m\u001b[0;34m\u001b[0m\u001b[0;34m\u001b[0m\u001b[0m\n\u001b[1;32m     26\u001b[0m \u001b[0mprint\u001b[0m\u001b[0;34m(\u001b[0m\u001b[0mweights_mu\u001b[0m\u001b[0;34m.\u001b[0m\u001b[0mshape\u001b[0m\u001b[0;34m,\u001b[0m \u001b[0mweights_sigma\u001b[0m\u001b[0;34m.\u001b[0m\u001b[0mshape\u001b[0m\u001b[0;34m,\u001b[0m \u001b[0mbias_mu\u001b[0m\u001b[0;34m.\u001b[0m\u001b[0mshape\u001b[0m\u001b[0;34m,\u001b[0m \u001b[0mbias_sigma\u001b[0m\u001b[0;34m.\u001b[0m\u001b[0mshape\u001b[0m\u001b[0;34m)\u001b[0m\u001b[0;34m\u001b[0m\u001b[0;34m\u001b[0m\u001b[0m\n",
      "\u001b[0;32m/tmp/ipykernel_149498/4223535800.py\u001b[0m in \u001b[0;36m__init__\u001b[0;34m(self, args)\u001b[0m\n\u001b[1;32m     11\u001b[0m \u001b[0;34m\u001b[0m\u001b[0m\n\u001b[1;32m     12\u001b[0m         self.pos_out = nn.Sequential(\n\u001b[0;32m---> 13\u001b[0;31m             \u001b[0mBayesianLinear\u001b[0m\u001b[0;34m(\u001b[0m\u001b[0;36m8\u001b[0m\u001b[0;34m,\u001b[0m \u001b[0margs\u001b[0m\u001b[0;34m.\u001b[0m\u001b[0mhidden\u001b[0m\u001b[0;34m,\u001b[0m \u001b[0mbias\u001b[0m \u001b[0;34m=\u001b[0m \u001b[0margs\u001b[0m\u001b[0;34m.\u001b[0m\u001b[0mbias\u001b[0m\u001b[0;34m)\u001b[0m\u001b[0;34m,\u001b[0m\u001b[0;34m\u001b[0m\u001b[0;34m\u001b[0m\u001b[0m\n\u001b[0m\u001b[1;32m     14\u001b[0m             BayesianLinear(args.hidden, 6, bias = args.bias))\n\u001b[1;32m     15\u001b[0m \u001b[0;34m\u001b[0m\u001b[0m\n",
      "\u001b[0;31mAttributeError\u001b[0m: 'Namespace' object has no attribute 'bias'"
     ]
    }
   ],
   "source": [
    "from torch import nn\n",
    "from torchinfo import summary as torch_summary\n",
    "from blitz.modules import BayesianLinear\n",
    "\n",
    "from utils import device, default_args, init_weights, weights\n",
    "\n",
    "class Bayes_Forward(nn.Module):\n",
    "    \n",
    "    def __init__(self, args):\n",
    "        super(Bayes_Forward, self).__init__()\n",
    "        \n",
    "        self.pos_out = nn.Sequential(\n",
    "            BayesianLinear(8, args.hidden, bias = args.bias),\n",
    "            BayesianLinear(args.hidden, 6, bias = args.bias))\n",
    "        \n",
    "        self.pos_out.apply(init_weights)\n",
    "        self.to(device)\n",
    "        \n",
    "    def forward(self, pos, action):\n",
    "        x = torch.cat([pos, action], -1)\n",
    "        x = self.pos_out(x).to(\"cpu\")\n",
    "        return(x) \n",
    "    \n",
    "bayes_forward = Bayes_Forward(with_bias)\n",
    "weights_mu, weights_sigma, bias_mu, bias_sigma = weights(bayes_forward)\n",
    "print(weights_mu.shape, weights_sigma.shape, bias_mu.shape, bias_sigma.shape)\n",
    "\n",
    "bayes_forward = Bayes_Forward(no_bias)\n",
    "weights_mu, weights_sigma, bias_mu, bias_sigma = weights(bayes_forward)\n",
    "print(weights_mu.shape, weights_sigma.shape, bias_mu.shape, bias_sigma.shape)\n",
    "\n",
    "(default_args.hidden * 8 + default_args.hidden * 6, default_args.hidden + 6)\n",
    "\n",
    "\n",
    "\n",
    "bayes_forward = Bayes_Forward(default_args)\n",
    "\n",
    "print(\"\\n\\n\")\n",
    "print(bayes_forward)\n",
    "print()\n",
    "print(torch_summary(bayes_forward, ((1,6), (1,2))))"
   ]
  },
  {
   "cell_type": "code",
   "execution_count": 55,
   "metadata": {},
   "outputs": [
    {
     "ename": "AttributeError",
     "evalue": "'Namespace' object has no attribute 'dkl_hidden'",
     "output_type": "error",
     "traceback": [
      "\u001b[0;31m---------------------------------------------------------------------------\u001b[0m",
      "\u001b[0;31mAttributeError\u001b[0m                            Traceback (most recent call last)",
      "\u001b[0;32m/tmp/ipykernel_149498/139736167.py\u001b[0m in \u001b[0;36m<module>\u001b[0;34m\u001b[0m\n\u001b[1;32m     34\u001b[0m \u001b[0mbias_sigma\u001b[0m    \u001b[0;34m=\u001b[0m \u001b[0mtorch\u001b[0m\u001b[0;34m.\u001b[0m\u001b[0mones\u001b[0m\u001b[0;34m(\u001b[0m\u001b[0;34m(\u001b[0m\u001b[0;36m2\u001b[0m\u001b[0;34m,\u001b[0m \u001b[0;36m1\u001b[0m\u001b[0;34m,\u001b[0m \u001b[0;36m1\u001b[0m\u001b[0;34m,\u001b[0m \u001b[0;36m38\u001b[0m\u001b[0;34m)\u001b[0m\u001b[0;34m)\u001b[0m\u001b[0;34m\u001b[0m\u001b[0;34m\u001b[0m\u001b[0m\n\u001b[1;32m     35\u001b[0m \u001b[0;34m\u001b[0m\u001b[0m\n\u001b[0;32m---> 36\u001b[0;31m \u001b[0mdkl_guesser\u001b[0m \u001b[0;34m=\u001b[0m \u001b[0mDKL_Guesser\u001b[0m\u001b[0;34m(\u001b[0m\u001b[0mdefault_args\u001b[0m\u001b[0;34m)\u001b[0m\u001b[0;34m\u001b[0m\u001b[0;34m\u001b[0m\u001b[0m\n\u001b[0m\u001b[1;32m     37\u001b[0m \u001b[0;34m\u001b[0m\u001b[0m\n\u001b[1;32m     38\u001b[0m \u001b[0mprint\u001b[0m\u001b[0;34m(\u001b[0m\u001b[0;34m\"\\n\\n\"\u001b[0m\u001b[0;34m)\u001b[0m\u001b[0;34m\u001b[0m\u001b[0;34m\u001b[0m\u001b[0m\n",
      "\u001b[0;32m/tmp/ipykernel_149498/139736167.py\u001b[0m in \u001b[0;36m__init__\u001b[0;34m(self, args)\u001b[0m\n\u001b[1;32m      4\u001b[0m         \u001b[0msuper\u001b[0m\u001b[0;34m(\u001b[0m\u001b[0mDKL_Guesser\u001b[0m\u001b[0;34m,\u001b[0m \u001b[0mself\u001b[0m\u001b[0;34m)\u001b[0m\u001b[0;34m.\u001b[0m\u001b[0m__init__\u001b[0m\u001b[0;34m(\u001b[0m\u001b[0;34m)\u001b[0m\u001b[0;34m\u001b[0m\u001b[0;34m\u001b[0m\u001b[0m\n\u001b[1;32m      5\u001b[0m \u001b[0;34m\u001b[0m\u001b[0m\n\u001b[0;32m----> 6\u001b[0;31m         \u001b[0mself\u001b[0m\u001b[0;34m.\u001b[0m\u001b[0merror_in\u001b[0m \u001b[0;34m=\u001b[0m \u001b[0mnn\u001b[0m\u001b[0;34m.\u001b[0m\u001b[0mLinear\u001b[0m\u001b[0;34m(\u001b[0m\u001b[0;36m1\u001b[0m\u001b[0;34m,\u001b[0m \u001b[0margs\u001b[0m\u001b[0;34m.\u001b[0m\u001b[0mdkl_hidden\u001b[0m\u001b[0;34m)\u001b[0m\u001b[0;34m\u001b[0m\u001b[0;34m\u001b[0m\u001b[0m\n\u001b[0m\u001b[1;32m      7\u001b[0m         \u001b[0mself\u001b[0m\u001b[0;34m.\u001b[0m\u001b[0mw_mu\u001b[0m     \u001b[0;34m=\u001b[0m \u001b[0mnn\u001b[0m\u001b[0;34m.\u001b[0m\u001b[0mLinear\u001b[0m\u001b[0;34m(\u001b[0m\u001b[0margs\u001b[0m\u001b[0;34m.\u001b[0m\u001b[0mhidden\u001b[0m \u001b[0;34m*\u001b[0m \u001b[0;36m8\u001b[0m \u001b[0;34m+\u001b[0m \u001b[0margs\u001b[0m\u001b[0;34m.\u001b[0m\u001b[0mhidden\u001b[0m \u001b[0;34m*\u001b[0m \u001b[0;36m6\u001b[0m\u001b[0;34m,\u001b[0m \u001b[0margs\u001b[0m\u001b[0;34m.\u001b[0m\u001b[0mdkl_hidden\u001b[0m\u001b[0;34m)\u001b[0m\u001b[0;34m\u001b[0m\u001b[0;34m\u001b[0m\u001b[0m\n\u001b[1;32m      8\u001b[0m         \u001b[0mself\u001b[0m\u001b[0;34m.\u001b[0m\u001b[0mw_sigma\u001b[0m  \u001b[0;34m=\u001b[0m \u001b[0mnn\u001b[0m\u001b[0;34m.\u001b[0m\u001b[0mLinear\u001b[0m\u001b[0;34m(\u001b[0m\u001b[0margs\u001b[0m\u001b[0;34m.\u001b[0m\u001b[0mhidden\u001b[0m \u001b[0;34m*\u001b[0m \u001b[0;36m8\u001b[0m \u001b[0;34m+\u001b[0m \u001b[0margs\u001b[0m\u001b[0;34m.\u001b[0m\u001b[0mhidden\u001b[0m \u001b[0;34m*\u001b[0m \u001b[0;36m6\u001b[0m\u001b[0;34m,\u001b[0m \u001b[0margs\u001b[0m\u001b[0;34m.\u001b[0m\u001b[0mdkl_hidden\u001b[0m\u001b[0;34m)\u001b[0m\u001b[0;34m\u001b[0m\u001b[0;34m\u001b[0m\u001b[0m\n",
      "\u001b[0;31mAttributeError\u001b[0m: 'Namespace' object has no attribute 'dkl_hidden'"
     ]
    }
   ],
   "source": [
    "class DKL_Guesser(nn.Module):\n",
    "    \n",
    "    def __init__(self, args):\n",
    "        super(DKL_Guesser, self).__init__()\n",
    "        \n",
    "        self.error_in = nn.Linear(1, args.dkl_hidden)\n",
    "        self.w_mu     = nn.Linear(args.hidden * 8 + args.hidden * 6, args.dkl_hidden)\n",
    "        self.w_sigma  = nn.Linear(args.hidden * 8 + args.hidden * 6, args.dkl_hidden)\n",
    "        self.b_mu     = nn.Linear(args.hidden + 6, args.dkl_hidden)\n",
    "        self.b_sigma  = nn.Linear(args.hidden + 6, args.dkl_hidden)\n",
    "        self.DKL_out  = nn.Linear(args.dkl_hidden * 5, 1)\n",
    "        \n",
    "    def forward(self, errors, weights_mu, weights_sigma, bias_mu, bias_sigma):\n",
    "        errors_shape = errors.shape\n",
    "        errors  = self.error_in(errors) \n",
    "        w_mu    = self.w_mu(weights_mu)\n",
    "        w_sigma = self.w_sigma(weights_sigma)\n",
    "        b_mu    = self.b_mu(bias_mu)\n",
    "        b_sigma = self.b_sigma(bias_sigma) \n",
    "        print(errors.shape, w_mu.shape, w_sigma.shape, b_mu.shape, b_sigma.shape)\n",
    "        w_mu    = torch.tile(w_mu, (1, errors.shape[1], errors.shape[2], 1))\n",
    "        w_sigma = torch.tile(w_sigma, (1, errors.shape[1], errors.shape[2], 1))\n",
    "        b_mu    = torch.tile(b_mu, (1, errors.shape[1], errors.shape[2], 1))\n",
    "        b_sigma = torch.tile(b_sigma, (1, errors.shape[1], errors.shape[2], 1))\n",
    "        print(errors.shape, w_mu.shape, w_sigma.shape, b_mu.shape, b_sigma.shape)\n",
    "        x = torch.cat([errors, w_mu, w_sigma, b_mu, b_sigma], -1)\n",
    "        x = self.DKL_out(x)\n",
    "        return(x)\n",
    "    \n",
    "errors        = torch.ones((2, 8, 10, 1))\n",
    "weights_mu    = torch.ones((2, 1, 1, 448))\n",
    "weights_sigma = torch.ones((2, 1, 1, 448))\n",
    "bias_mu       = torch.ones((2, 1, 1, 38))\n",
    "bias_sigma    = torch.ones((2, 1, 1, 38))\n",
    "\n",
    "dkl_guesser = DKL_Guesser(default_args)\n",
    "\n",
    "print(\"\\n\\n\")\n",
    "print(dkl_guesser)\n",
    "print()\n",
    "print(torch_summary(dkl_guesser, (errors.shape, weights_mu.shape, weights_sigma.shape, bias_mu.shape, bias_sigma.shape)))"
   ]
  }
 ],
 "metadata": {
  "kernelspec": {
   "display_name": "Python 3.8.10 64-bit",
   "language": "python",
   "name": "python3"
  },
  "language_info": {
   "codemirror_mode": {
    "name": "ipython",
    "version": 3
   },
   "file_extension": ".py",
   "mimetype": "text/x-python",
   "name": "python",
   "nbconvert_exporter": "python",
   "pygments_lexer": "ipython3",
   "version": "3.8.10"
  },
  "orig_nbformat": 4,
  "vscode": {
   "interpreter": {
    "hash": "e7370f93d1d0cde622a1f8e1c04877d8463912d04d973331ad4851f04de6915a"
   }
  }
 },
 "nbformat": 4,
 "nbformat_minor": 2
}
